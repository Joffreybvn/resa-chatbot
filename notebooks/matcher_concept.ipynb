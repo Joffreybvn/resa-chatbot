{
  "nbformat": 4,
  "nbformat_minor": 0,
  "metadata": {
    "colab": {
      "name": "BERT_matcher.ipynb",
      "provenance": [],
      "toc_visible": true
    },
    "kernelspec": {
      "name": "python3",
      "display_name": "Python 3"
    }
  },
  "cells": [
    {
      "cell_type": "markdown",
      "metadata": {
        "id": "LE_1jA3iOuyS"
      },
      "source": [
        "# Imports"
      ]
    },
    {
      "cell_type": "markdown",
      "metadata": {
        "id": "wTAm9SiyQiH3"
      },
      "source": [
        "### Installs"
      ]
    },
    {
      "cell_type": "code",
      "metadata": {
        "colab": {
          "base_uri": "https://localhost:8080/",
          "height": 598
        },
        "id": "3DM4-q_lOg00",
        "outputId": "d1c0ef9c-c067-4a8b-8a7e-eb263a4fde83"
      },
      "source": [
        "!pip install polyfuzz"
      ],
      "execution_count": 1,
      "outputs": [
        {
          "output_type": "stream",
          "text": [
            "Collecting polyfuzz\n",
            "  Downloading https://files.pythonhosted.org/packages/f0/00/632ac43b4c51e78dec784995db49861f7d6ac7b8ff00bb40127bd3e48854/polyfuzz-0.2.2-py2.py3-none-any.whl\n",
            "Requirement already satisfied: matplotlib>=3.2.2 in /usr/local/lib/python3.6/dist-packages (from polyfuzz) (3.2.2)\n",
            "Requirement already satisfied: scikit-learn>=0.22.2.post1 in /usr/local/lib/python3.6/dist-packages (from polyfuzz) (0.22.2.post1)\n",
            "Requirement already satisfied: tqdm>=4.41.1 in /usr/local/lib/python3.6/dist-packages (from polyfuzz) (4.41.1)\n",
            "Requirement already satisfied: seaborn>=0.11.0 in /usr/local/lib/python3.6/dist-packages (from polyfuzz) (0.11.1)\n",
            "Requirement already satisfied: joblib>=0.14.0 in /usr/local/lib/python3.6/dist-packages (from polyfuzz) (1.0.0)\n",
            "Requirement already satisfied: scipy>=1.3.1 in /usr/local/lib/python3.6/dist-packages (from polyfuzz) (1.4.1)\n",
            "Requirement already satisfied: pandas>=0.25.3 in /usr/local/lib/python3.6/dist-packages (from polyfuzz) (1.1.5)\n",
            "Collecting rapidfuzz>=0.13.1\n",
            "\u001b[?25l  Downloading https://files.pythonhosted.org/packages/f3/50/c9c22779370cf3314af40bac33dc2fb42c08fc5bb3f430fefbecceb763e2/rapidfuzz-0.14.2-cp36-cp36m-manylinux2010_x86_64.whl (4.4MB)\n",
            "\u001b[K     |████████████████████████████████| 4.5MB 6.9MB/s \n",
            "\u001b[?25hCollecting numpy<=1.19.4,>=1.18.5\n",
            "\u001b[?25l  Downloading https://files.pythonhosted.org/packages/87/86/753182c9085ba4936c0076269a571613387cdb77ae2bf537448bfd63472c/numpy-1.19.4-cp36-cp36m-manylinux2010_x86_64.whl (14.5MB)\n",
            "\u001b[K     |████████████████████████████████| 14.5MB 31.5MB/s \n",
            "\u001b[?25hRequirement already satisfied: kiwisolver>=1.0.1 in /usr/local/lib/python3.6/dist-packages (from matplotlib>=3.2.2->polyfuzz) (1.3.1)\n",
            "Requirement already satisfied: python-dateutil>=2.1 in /usr/local/lib/python3.6/dist-packages (from matplotlib>=3.2.2->polyfuzz) (2.8.1)\n",
            "Requirement already satisfied: pyparsing!=2.0.4,!=2.1.2,!=2.1.6,>=2.0.1 in /usr/local/lib/python3.6/dist-packages (from matplotlib>=3.2.2->polyfuzz) (2.4.7)\n",
            "Requirement already satisfied: cycler>=0.10 in /usr/local/lib/python3.6/dist-packages (from matplotlib>=3.2.2->polyfuzz) (0.10.0)\n",
            "Requirement already satisfied: pytz>=2017.2 in /usr/local/lib/python3.6/dist-packages (from pandas>=0.25.3->polyfuzz) (2018.9)\n",
            "Requirement already satisfied: six>=1.5 in /usr/local/lib/python3.6/dist-packages (from python-dateutil>=2.1->matplotlib>=3.2.2->polyfuzz) (1.15.0)\n",
            "\u001b[31mERROR: datascience 0.10.6 has requirement folium==0.2.1, but you'll have folium 0.8.3 which is incompatible.\u001b[0m\n",
            "\u001b[31mERROR: albumentations 0.1.12 has requirement imgaug<0.2.7,>=0.2.5, but you'll have imgaug 0.2.9 which is incompatible.\u001b[0m\n",
            "Installing collected packages: rapidfuzz, numpy, polyfuzz\n",
            "  Found existing installation: numpy 1.19.5\n",
            "    Uninstalling numpy-1.19.5:\n",
            "      Successfully uninstalled numpy-1.19.5\n",
            "Successfully installed numpy-1.19.4 polyfuzz-0.2.2 rapidfuzz-0.14.2\n"
          ],
          "name": "stdout"
        },
        {
          "output_type": "display_data",
          "data": {
            "application/vnd.colab-display-data+json": {
              "pip_warning": {
                "packages": [
                  "numpy"
                ]
              }
            }
          },
          "metadata": {
            "tags": []
          }
        }
      ]
    },
    {
      "cell_type": "markdown",
      "metadata": {
        "id": "pWGzDozZQbed"
      },
      "source": [
        "### Libraries"
      ]
    },
    {
      "cell_type": "code",
      "metadata": {
        "id": "_FOXcuKaP-_h"
      },
      "source": [
        "from polyfuzz import PolyFuzz\n",
        "import re"
      ],
      "execution_count": 2,
      "outputs": []
    },
    {
      "cell_type": "markdown",
      "metadata": {
        "id": "qhw4bDx9QeMv"
      },
      "source": [
        "# Matching"
      ]
    },
    {
      "cell_type": "markdown",
      "metadata": {
        "id": "LvFGGaPCV-xF"
      },
      "source": [
        "Instantiate the model"
      ]
    },
    {
      "cell_type": "code",
      "metadata": {
        "id": "RiCNRQXnWAmg"
      },
      "source": [
        "# TODO use a lighter model with lemmatization to fasten the inference\n",
        "models = PolyFuzz(\"TF-IDF\")"
      ],
      "execution_count": 3,
      "outputs": []
    },
    {
      "cell_type": "code",
      "metadata": {
        "id": "kQCET-PIRgfZ"
      },
      "source": [
        "text = \"I wish to reserve a room for 2 peoples\""
      ],
      "execution_count": 4,
      "outputs": []
    },
    {
      "cell_type": "markdown",
      "metadata": {
        "id": "v-nPRwsBbaJj"
      },
      "source": [
        "Match the phrase"
      ]
    },
    {
      "cell_type": "code",
      "metadata": {
        "colab": {
          "base_uri": "https://localhost:8080/"
        },
        "id": "DZEtXe3cP9JF",
        "outputId": "9648174a-2157-438b-c6bb-d41b355eef29"
      },
      "source": [
        "entries = text.split(\" \")\n",
        "filter = [\"pearson\", \"people\"]\n",
        "\n",
        "models.match(entries, filter)"
      ],
      "execution_count": 5,
      "outputs": [
        {
          "output_type": "execute_result",
          "data": {
            "text/plain": [
              "<polyfuzz.polyfuzz.PolyFuzz at 0x7f60c4081940>"
            ]
          },
          "metadata": {
            "tags": []
          },
          "execution_count": 5
        }
      ]
    },
    {
      "cell_type": "markdown",
      "metadata": {
        "id": "SESCxg6Ibcu7"
      },
      "source": [
        "Extract the word"
      ]
    },
    {
      "cell_type": "code",
      "metadata": {
        "colab": {
          "base_uri": "https://localhost:8080/",
          "height": 328
        },
        "id": "MyjH-V3Huemi",
        "outputId": "0c287a3c-1849-41ee-ea43-9ac76b02522f"
      },
      "source": [
        "matches"
      ],
      "execution_count": 12,
      "outputs": [
        {
          "output_type": "execute_result",
          "data": {
            "text/html": [
              "<div>\n",
              "<style scoped>\n",
              "    .dataframe tbody tr th:only-of-type {\n",
              "        vertical-align: middle;\n",
              "    }\n",
              "\n",
              "    .dataframe tbody tr th {\n",
              "        vertical-align: top;\n",
              "    }\n",
              "\n",
              "    .dataframe thead th {\n",
              "        text-align: right;\n",
              "    }\n",
              "</style>\n",
              "<table border=\"1\" class=\"dataframe\">\n",
              "  <thead>\n",
              "    <tr style=\"text-align: right;\">\n",
              "      <th></th>\n",
              "      <th>From</th>\n",
              "      <th>To</th>\n",
              "      <th>Similarity</th>\n",
              "    </tr>\n",
              "  </thead>\n",
              "  <tbody>\n",
              "    <tr>\n",
              "      <th>0</th>\n",
              "      <td>I</td>\n",
              "      <td>None</td>\n",
              "      <td>0.000000</td>\n",
              "    </tr>\n",
              "    <tr>\n",
              "      <th>1</th>\n",
              "      <td>wish</td>\n",
              "      <td>None</td>\n",
              "      <td>0.000000</td>\n",
              "    </tr>\n",
              "    <tr>\n",
              "      <th>2</th>\n",
              "      <td>to</td>\n",
              "      <td>None</td>\n",
              "      <td>0.000000</td>\n",
              "    </tr>\n",
              "    <tr>\n",
              "      <th>3</th>\n",
              "      <td>reserve</td>\n",
              "      <td>None</td>\n",
              "      <td>0.000000</td>\n",
              "    </tr>\n",
              "    <tr>\n",
              "      <th>4</th>\n",
              "      <td>a</td>\n",
              "      <td>None</td>\n",
              "      <td>0.000000</td>\n",
              "    </tr>\n",
              "    <tr>\n",
              "      <th>5</th>\n",
              "      <td>room</td>\n",
              "      <td>None</td>\n",
              "      <td>0.000000</td>\n",
              "    </tr>\n",
              "    <tr>\n",
              "      <th>6</th>\n",
              "      <td>for</td>\n",
              "      <td>None</td>\n",
              "      <td>0.000000</td>\n",
              "    </tr>\n",
              "    <tr>\n",
              "      <th>7</th>\n",
              "      <td>2</td>\n",
              "      <td>None</td>\n",
              "      <td>0.000000</td>\n",
              "    </tr>\n",
              "    <tr>\n",
              "      <th>8</th>\n",
              "      <td>peoples</td>\n",
              "      <td>people</td>\n",
              "      <td>0.863168</td>\n",
              "    </tr>\n",
              "  </tbody>\n",
              "</table>\n",
              "</div>"
            ],
            "text/plain": [
              "      From      To  Similarity\n",
              "0        I    None    0.000000\n",
              "1     wish    None    0.000000\n",
              "2       to    None    0.000000\n",
              "3  reserve    None    0.000000\n",
              "4        a    None    0.000000\n",
              "5     room    None    0.000000\n",
              "6      for    None    0.000000\n",
              "7        2    None    0.000000\n",
              "8  peoples  people    0.863168"
            ]
          },
          "metadata": {
            "tags": []
          },
          "execution_count": 12
        }
      ]
    },
    {
      "cell_type": "code",
      "metadata": {
        "id": "nCUoNtQdvkTM"
      },
      "source": [
        "thresholded = matches[matches['Similarity'] >= 0.85]"
      ],
      "execution_count": 13,
      "outputs": []
    },
    {
      "cell_type": "code",
      "metadata": {
        "id": "tfry_5nmQFas"
      },
      "source": [
        "matches = models.get_matches()\n",
        "word = thresholded[thresholded['Similarity'] == thresholded['Similarity'].max()].iloc[0, 0]"
      ],
      "execution_count": 14,
      "outputs": []
    },
    {
      "cell_type": "code",
      "metadata": {
        "colab": {
          "base_uri": "https://localhost:8080/",
          "height": 35
        },
        "id": "pJ77yhlcUgJ9",
        "outputId": "50e03113-b413-4c39-d397-f4d62b15c290"
      },
      "source": [
        "word"
      ],
      "execution_count": 15,
      "outputs": [
        {
          "output_type": "execute_result",
          "data": {
            "application/vnd.google.colaboratory.intrinsic+json": {
              "type": "string"
            },
            "text/plain": [
              "'peoples'"
            ]
          },
          "metadata": {
            "tags": []
          },
          "execution_count": 15
        }
      ]
    },
    {
      "cell_type": "markdown",
      "metadata": {
        "id": "U0oCHYOHbt0M"
      },
      "source": [
        "Extract data"
      ]
    },
    {
      "cell_type": "code",
      "metadata": {
        "id": "JGI3Oqy8cSeT"
      },
      "source": [
        "result = re.search(f\"(?P<amount>\\d)\\W{word}\", text)"
      ],
      "execution_count": 8,
      "outputs": []
    },
    {
      "cell_type": "code",
      "metadata": {
        "colab": {
          "base_uri": "https://localhost:8080/"
        },
        "id": "vZZRmx7UdLyx",
        "outputId": "14362d25-5d52-4cef-db36-cb59dd0ae9a7"
      },
      "source": [
        "int(result.group('amount'))"
      ],
      "execution_count": 9,
      "outputs": [
        {
          "output_type": "execute_result",
          "data": {
            "text/plain": [
              "2"
            ]
          },
          "metadata": {
            "tags": []
          },
          "execution_count": 9
        }
      ]
    }
  ]
}